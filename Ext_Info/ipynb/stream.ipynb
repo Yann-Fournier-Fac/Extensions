{
 "cells": [
  {
   "cell_type": "code",
   "execution_count": 44,
   "metadata": {},
   "outputs": [
    {
     "name": "stderr",
     "output_type": "stream",
     "text": [
      "C:\\Users\\PC\\AppData\\Local\\Temp\\ipykernel_7548\\1175367973.py:16: DeprecationWarning: executable_path has been deprecated, please pass in a Service object\n",
      "  driver = webdriver.Chrome(DRIVER_PATH, options=chrome_options)\n"
     ]
    },
    {
     "name": "stdout",
     "output_type": "stream",
     "text": [
      "otplol_ La non plus $$$$$$$$$$$$$$$$$$$$$\n",
      "otplol_ https://static-cdn.jtvnw.net/jtv_user_pictures/787bd9dd-9367-45ed-a44d-d755427549b8-profile_image-70x70.png\n",
      "Kamet0 Rien Trouvé *******************\n",
      "Kamet0 https://static-cdn.jtvnw.net/jtv_user_pictures/9e12862d-a8d0-4df2-81aa-e2241022dc98-profile_image-70x70.jpg\n",
      "Gotaga Rien Trouvé *******************\n",
      "Gotaga https://static-cdn.jtvnw.net/jtv_user_pictures/69e324f6-fc7d-4131-89ed-227a955637cf-profile_image-70x70.png\n",
      "Chipsette_FR Rien Trouvé *******************\n",
      "Chipsette_FR https://static-cdn.jtvnw.net/jtv_user_pictures/1c008e6b-b840-4c57-9c2e-859a5b9a4c53-profile_image-70x70.png\n",
      "LCK Rien Trouvé *******************\n",
      "LCK https://static-cdn.jtvnw.net/jtv_user_pictures/04b097ac-9a71-409e-b30e-570175b39caf-profile_image-70x70.png\n",
      "VALORANT Rien Trouvé *******************\n",
      "VALORANT https://static-cdn.jtvnw.net/jtv_user_pictures/ab49dc0a-4b33-4dba-adb7-2a0d7ed08f3a-profile_image-70x70.png\n",
      "RLEsport Rien Trouvé *******************\n",
      "RLEsport https://static-cdn.jtvnw.net/user-default-pictures-uv/ce57700a-def9-11e9-842d-784f43822e80-profile_image-70x70.png\n",
      "RocketBaguette Rien Trouvé *******************\n",
      "RocketBaguette https://static-cdn.jtvnw.net/jtv_user_pictures/6019724d-4158-4cc9-bd03-75d67960be48-profile_image-70x70.png\n",
      "jbzzed Rien Trouvé *******************\n",
      "jbzzed https://static-cdn.jtvnw.net/jtv_user_pictures/jbzzed-profile_image-3b2a4588b08af4b0-70x70.jpeg\n",
      "Rasmelthor Rien Trouvé *******************\n",
      "Rasmelthor https://static-cdn.jtvnw.net/jtv_user_pictures/1dee5831-e38c-4a4d-9af5-c04df4c1398d-profile_image-70x70.png\n",
      "AzleTV Rien Trouvé *******************\n",
      "AzleTV https://static-cdn.jtvnw.net/jtv_user_pictures/eb50ce67-e93f-4515-a4a9-9c7a27cda231-profile_image-70x70.png\n",
      "Pokemon Rien Trouvé *******************\n",
      "Pokemon https://static-cdn.jtvnw.net/jtv_user_pictures/dd000fb5-e41d-4676-a793-8d024030ac55-profile_image-70x70.png\n"
     ]
    }
   ],
   "source": [
    "# Scraping des images des Streamers\n",
    "\n",
    "from selenium import webdriver\n",
    "from selenium.webdriver.common.by import By\n",
    "from selenium.webdriver.chrome.options import Options\n",
    "import json\n",
    "\n",
    "with open(\"C:/Users/PC/Documents/Extensions/Ext_Info/json/stream.json\", \"r\") as file:\n",
    "    stream = json.load(file)\n",
    "    #print(stream[\"Streamer\"][0])\n",
    "    \n",
    "chrome_options = Options()\n",
    "chrome_options.add_experimental_option(\"detach\", True)\n",
    "\n",
    "DRIVER_PATH = \"./chromedriver\"\n",
    "driver = webdriver.Chrome(DRIVER_PATH, options=chrome_options)\n",
    "driver.implicitly_wait(10)\n",
    "\n",
    "url = \"https://www.twitch.tv/\"\n",
    "for i in range(len(stream[\"Streamer\"])):\n",
    "    driver.get(\"https://www.twitch.tv/\" + stream[\"Streamer\"][i][\"name\"])\n",
    "    # Le streamer live\n",
    "    try:\n",
    "        stream[\"Streamer\"][i][\"img\"] = driver.find_element(By.XPATH, \"/html/body/div[1]/div/div[2]/div/main/div[1]/div[3]/div/div/div[1]/div[1]/div[2]/div/section/div/div/div/div/div[1]/div/div/div/a/div[1]/figure/img\").get_attribute(\"src\")\n",
    "    except:\n",
    "        #print(stream[\"Streamer\"][i][\"name\"], \"Rien Trouvé *******************\")\n",
    "        pass\n",
    "\n",
    "    # Le streamer ne live pas\n",
    "    try:\n",
    "        stream[\"Streamer\"][i][\"img\"] = driver.find_element(By.XPATH, \"/html/body/div[1]/div/div[2]/div/main/div[1]/div[3]/div/div/div[1]/div[1]/div[2]/div/section/div[2]/div[1]/div[1]/div[1]/div/div/div/a/div/figure/img\").get_attribute(\"src\")\n",
    "    except:\n",
    "        #print(stream[\"Streamer\"][i][\"name\"], \"La non plus $$$$$$$$$$$$$$$$$$$$$\")\n",
    "        pass\n",
    "    #print(stream[\"Streamer\"][i][\"name\"], stream[\"Streamer\"][i][\"img\"])\n",
    "\n",
    "    \n",
    "driver.close()\n",
    "driver.quit()\n",
    "\n",
    "with open(\"C:/Users/PC/Documents/Extensions/Ext_Info/json/stream.json\", \"w\") as j:\n",
    "    json.dump(stream, j)"
   ]
  },
  {
   "cell_type": "code",
   "execution_count": 42,
   "metadata": {},
   "outputs": [],
   "source": []
  },
  {
   "cell_type": "code",
   "execution_count": null,
   "metadata": {},
   "outputs": [],
   "source": []
  }
 ],
 "metadata": {
  "kernelspec": {
   "display_name": "Python 3 (ipykernel)",
   "language": "python",
   "name": "python3"
  },
  "language_info": {
   "codemirror_mode": {
    "name": "ipython",
    "version": 3
   },
   "file_extension": ".py",
   "mimetype": "text/x-python",
   "name": "python",
   "nbconvert_exporter": "python",
   "pygments_lexer": "ipython3",
   "version": "3.10.9"
  }
 },
 "nbformat": 4,
 "nbformat_minor": 2
}
